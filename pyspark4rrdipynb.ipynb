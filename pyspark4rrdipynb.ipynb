{
  "nbformat": 4,
  "nbformat_minor": 0,
  "metadata": {
    "colab": {
      "provenance": [],
      "authorship_tag": "ABX9TyPR/860FSA5D5+Rm4WiogF/",
      "include_colab_link": true
    },
    "kernelspec": {
      "name": "python3",
      "display_name": "Python 3"
    },
    "language_info": {
      "name": "python"
    }
  },
  "cells": [
    {
      "cell_type": "markdown",
      "metadata": {
        "id": "view-in-github",
        "colab_type": "text"
      },
      "source": [
        "<a href=\"https://colab.research.google.com/github/Kunal-Aher/Data/blob/main/pyspark4rrdipynb.ipynb\" target=\"_parent\"><img src=\"https://colab.research.google.com/assets/colab-badge.svg\" alt=\"Open In Colab\"/></a>"
      ]
    },
    {
      "cell_type": "code",
      "execution_count": null,
      "metadata": {
        "id": "NwDdWUPK8sFB"
      },
      "outputs": [],
      "source": [
        "from pyspark import SparkContext\n",
        "from pyspark.sql import SparkSession\n",
        "from pyspark.sql.functions import *\n",
        "from pyspark.sql.types import *"
      ]
    },
    {
      "cell_type": "code",
      "source": [
        "sc=SparkContext.getOrCreate()"
      ],
      "metadata": {
        "id": "u9phkI-_Qptl"
      },
      "execution_count": null,
      "outputs": []
    },
    {
      "cell_type": "code",
      "source": [
        "# from re import I\n",
        "ex_rdd=sc.parallelize([1,2,3,4,5])\n",
        "\n",
        "# method 1\n",
        "# for i in ex_rdd.collect():\n",
        "#   x=i+10\n",
        "  # print(x)\n",
        "\n",
        "# method 2\n",
        "# print([i+10 for i in ex_rdd.collect()])\n",
        "\n",
        "# method 3\n",
        "# print(ex_rdd.map(lambda x:x+10).collect())\n",
        "# print(ex_rdd.collect())"
      ],
      "metadata": {
        "colab": {
          "base_uri": "https://localhost:8080/"
        },
        "id": "pYFLKOn6Q0sA",
        "outputId": "58c4c95b-9791-433c-f565-8ceb49a9292a"
      },
      "execution_count": null,
      "outputs": [
        {
          "output_type": "stream",
          "name": "stdout",
          "text": [
            "[11, 12, 13, 14, 15]\n"
          ]
        }
      ]
    },
    {
      "cell_type": "code",
      "source": [
        "ex_rdd=sc.parallelize([125,42,33,44,45])\n",
        "print(ex_rdd.filter(lambda x:x%2==0).collect())"
      ],
      "metadata": {
        "colab": {
          "base_uri": "https://localhost:8080/"
        },
        "id": "tKA4kX2vRSUh",
        "outputId": "abdc8083-743a-4749-ef82-766f47d703a7"
      },
      "execution_count": null,
      "outputs": [
        {
          "output_type": "stream",
          "name": "stdout",
          "text": [
            "[42, 44]\n"
          ]
        }
      ]
    },
    {
      "cell_type": "code",
      "source": [
        "# # prompt: print even number bet 1 ,100 using lambda function\n",
        "\n",
        "# even_numbers = list(filter(lambda x: x % 2 == 0, range(1, 101)))\n",
        "# even_numbers"
      ],
      "metadata": {
        "id": "vWf5-lJaSwq9"
      },
      "execution_count": null,
      "outputs": []
    },
    {
      "cell_type": "code",
      "source": [
        "reduce_rdd=sc.parallelize([1,2,3,4,5])\n",
        "print(reduce_rdd.reduce(lambda x,y:x+y))"
      ],
      "metadata": {
        "colab": {
          "base_uri": "https://localhost:8080/"
        },
        "id": "8VpXkaA6THde",
        "outputId": "ba4fc184-dcd0-443e-d2cb-1ae7a1412590"
      },
      "execution_count": null,
      "outputs": [
        {
          "output_type": "stream",
          "name": "stdout",
          "text": [
            "15\n"
          ]
        }
      ]
    },
    {
      "cell_type": "code",
      "source": [
        "sv_rdd=sc.parallelize([1,2,3,4,5])\n",
        "print(sv_rdd.count())"
      ],
      "metadata": {
        "colab": {
          "base_uri": "https://localhost:8080/"
        },
        "id": "QlMx52oCUMbh",
        "outputId": "c36353c3-0ef8-463f-8c3a-070fa122e81f"
      },
      "execution_count": null,
      "outputs": [
        {
          "output_type": "stream",
          "name": "stdout",
          "text": [
            "5\n"
          ]
        }
      ]
    },
    {
      "cell_type": "code",
      "source": [
        "save_rdd=sc.parallelize([1,2,3,4,5])\n",
        "save_rdd.saveAsTextFile('save_rdd')\n",
        "#"
      ],
      "metadata": {
        "id": "lJ2gyVxoVt65"
      },
      "execution_count": null,
      "outputs": []
    },
    {
      "cell_type": "code",
      "source": [
        "def Func(Lines):\n",
        "  Lines=Lines.lower()\n",
        "  Lines=Lines.split(\" \")\n",
        "  return Lines\n",
        "\n",
        "\n",
        "input_file=sc.textFile(\"/content/text.txt\")\n"
      ],
      "metadata": {
        "id": "ZuIE3NxMVxTK"
      },
      "execution_count": null,
      "outputs": []
    },
    {
      "cell_type": "code",
      "source": [
        "print(input_file.take(1))"
      ],
      "metadata": {
        "colab": {
          "base_uri": "https://localhost:8080/"
        },
        "id": "GfiyOOZPhur-",
        "outputId": "76332fe3-ab1b-40ef-c45a-5a889c0502d7"
      },
      "execution_count": null,
      "outputs": [
        {
          "output_type": "stream",
          "name": "stdout",
          "text": [
            "['Hello There is chocolate and other things ']\n"
          ]
        }
      ]
    },
    {
      "cell_type": "code",
      "source": [
        "rdd1=input_file.flatMap(Func)"
      ],
      "metadata": {
        "id": "v_q7uLjRh3GL"
      },
      "execution_count": null,
      "outputs": []
    },
    {
      "cell_type": "code",
      "source": [
        "rdd1.take(3)"
      ],
      "metadata": {
        "colab": {
          "base_uri": "https://localhost:8080/"
        },
        "id": "MbNyJMguiQIw",
        "outputId": "409d5af0-5680-45dd-88ff-1d002c3ae861"
      },
      "execution_count": null,
      "outputs": [
        {
          "output_type": "execute_result",
          "data": {
            "text/plain": [
              "['hello', 'there', 'is']"
            ]
          },
          "metadata": {},
          "execution_count": 31
        }
      ]
    },
    {
      "cell_type": "code",
      "source": [
        "rdd1.map(lambda x:(x,1)).take(5)"
      ],
      "metadata": {
        "colab": {
          "base_uri": "https://localhost:8080/"
        },
        "id": "jVR4LL8IiXli",
        "outputId": "a7aae51c-d3ad-4a10-99d5-ad4663064500"
      },
      "execution_count": null,
      "outputs": [
        {
          "output_type": "execute_result",
          "data": {
            "text/plain": [
              "[('hello', 1), ('there', 1), ('is', 1), ('chocolate', 1), ('and', 1)]"
            ]
          },
          "metadata": {},
          "execution_count": 33
        }
      ]
    },
    {
      "cell_type": "code",
      "source": [
        "# rdd2 = rdd1.map(lambda x: (x, 1)) \\\n",
        "#            .groupByKey() \\\n",
        "#            .mapValues(sum) \\\n",
        "#            .map(lambda x: (x[1], x[0])) \\\n",
        "#            .sortByKey(False)\n",
        "\n",
        "# print(rdd2.take(5))\n"
      ],
      "metadata": {
        "id": "xrfwD4qMimav"
      },
      "execution_count": null,
      "outputs": []
    },
    {
      "cell_type": "code",
      "source": [
        "#MAPS"
      ],
      "metadata": {
        "id": "oVOOK_pgi7G3"
      },
      "execution_count": null,
      "outputs": []
    },
    {
      "cell_type": "code",
      "source": [
        "def to_to_mill(row):\n",
        "  return (row[0],row[1],row[2],round(row[3],0))"
      ],
      "metadata": {
        "id": "OaFnD7etn_DL"
      },
      "execution_count": null,
      "outputs": []
    },
    {
      "cell_type": "code",
      "source": [
        "path=\"D:/kunal_cdac_blr_notes/DVALL/archive (2Reliance.csv'"
      ],
      "metadata": {
        "colab": {
          "base_uri": "https://localhost:8080/",
          "height": 106
        },
        "id": "GsYswElNn_F_",
        "outputId": "c968b5f9-e284-48ab-dfb0-f2c577dcbb69"
      },
      "execution_count": null,
      "outputs": [
        {
          "output_type": "error",
          "ename": "SyntaxError",
          "evalue": "unterminated string literal (detected at line 1) (<ipython-input-46-a8cc687652b7>, line 1)",
          "traceback": [
            "\u001b[0;36m  File \u001b[0;32m\"<ipython-input-46-a8cc687652b7>\"\u001b[0;36m, line \u001b[0;32m1\u001b[0m\n\u001b[0;31m    path=(\"/kunal_cdac_blr_notes/DVALL/archive (2)/Reliance.csv')\u001b[0m\n\u001b[0m          ^\u001b[0m\n\u001b[0;31mSyntaxError\u001b[0m\u001b[0;31m:\u001b[0m unterminated string literal (detected at line 1)\n"
          ]
        }
      ]
    },
    {
      "cell_type": "code",
      "source": [],
      "metadata": {
        "id": "9ZXxjsRXn_I6"
      },
      "execution_count": null,
      "outputs": []
    },
    {
      "cell_type": "code",
      "source": [],
      "metadata": {
        "id": "Sc5sABqfn_Ll"
      },
      "execution_count": null,
      "outputs": []
    },
    {
      "cell_type": "code",
      "source": [],
      "metadata": {
        "id": "FqmzZlUtn_OR"
      },
      "execution_count": null,
      "outputs": []
    },
    {
      "cell_type": "code",
      "source": [],
      "metadata": {
        "id": "r2cv41SQn_Q0"
      },
      "execution_count": null,
      "outputs": []
    },
    {
      "cell_type": "code",
      "source": [],
      "metadata": {
        "id": "QTulV36Wn_Ty"
      },
      "execution_count": null,
      "outputs": []
    },
    {
      "cell_type": "code",
      "source": [],
      "metadata": {
        "id": "igw1-zf0n_XC"
      },
      "execution_count": null,
      "outputs": []
    }
  ]
}