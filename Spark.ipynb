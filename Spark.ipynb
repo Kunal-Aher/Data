{
  "nbformat": 4,
  "nbformat_minor": 0,
  "metadata": {
    "colab": {
      "provenance": [],
      "authorship_tag": "ABX9TyNvp3+UchwBQ3izyN/H5LiV",
      "include_colab_link": true
    },
    "kernelspec": {
      "name": "python3",
      "display_name": "Python 3"
    },
    "language_info": {
      "name": "python"
    }
  },
  "cells": [
    {
      "cell_type": "markdown",
      "metadata": {
        "id": "view-in-github",
        "colab_type": "text"
      },
      "source": [
        "<a href=\"https://colab.research.google.com/github/Kunal-Aher/Data/blob/main/Spark.ipynb\" target=\"_parent\"><img src=\"https://colab.research.google.com/assets/colab-badge.svg\" alt=\"Open In Colab\"/></a>"
      ]
    },
    {
      "cell_type": "code",
      "execution_count": null,
      "metadata": {
        "id": "_Khrzvi2NKQ8"
      },
      "outputs": [],
      "source": [
        "import os\n",
        "\n",
        "# !set JAVA_HOME=$(/usr/libexec/java_home -v 1.8)\n",
        "from pyspark import SparkConf, SparkContext\n",
        "\n",
        "#os.environ['PYSPARK_PYTHON'] = '/Library/Frameworks/Python.framework/Versions/3.6/bin/python3'\n",
        "# os.environ['PYSPARK_PYTHON'] = '/usr/local/bin/python3'\n",
        "# os.environ['PYSPARK_PYTHON'] = '/usr/local/Cellar/python@3.10/3.10.9/bin/python3'\n",
        "#os.environ['PYSPARK_DRIVER_PYTHON'] = '/usr/local/bin/python3'\n",
        "\n",
        "from pyspark.sql import SparkSession\n",
        "spark = SparkSession.builder.master(\"local\").appName(\"rdd_demo\").getOrCreate()\n",
        "#spark = SparkSession.builder.master(\"local[1]\").appName(\"rdd_demo\").getOrCreate()\n",
        "#spark = SparkSession.builder.master(\"local\").config(\"spark.driver.bindAddress\", \"127.0.0.1\").appName(\"rdd_demo\").getOrCreate()\n",
        "#spark = SparkSession.builder.master(\"local\").config(\"spark.ui.port\", \"4041\").appName(\"rdd_demo\").getOrCreate()\n",
        "#spark = SparkSession.builder.master(\"local\").config(\"spark.ui.reverseProxy\", \"true\").appName(\"rdd_demo\").getOrCreate()\n",
        "\n",
        "\n",
        "#sc.stop()\n",
        "conf = SparkConf().setMaster(\"local\").setAppName(\"MinTemperatures\")\n",
        "sc = SparkContext.getOrCreate()"
      ]
    },
    {
      "cell_type": "code",
      "source": [],
      "metadata": {
        "id": "g6zT2oCqNmDF"
      },
      "execution_count": null,
      "outputs": []
    }
  ]
}