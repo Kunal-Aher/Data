{
  "cells": [
    {
      "cell_type": "markdown",
      "metadata": {
        "id": "view-in-github",
        "colab_type": "text"
      },
      "source": [
        "<a href=\"https://colab.research.google.com/github/Kunal-Aher/Data/blob/main/Class_1_RDD_operations_1.ipynb\" target=\"_parent\"><img src=\"https://colab.research.google.com/assets/colab-badge.svg\" alt=\"Open In Colab\"/></a>"
      ]
    },
    {
      "cell_type": "code",
      "execution_count": null,
      "metadata": {
        "id": "pywNTZfDhvos"
      },
      "outputs": [],
      "source": []
    },
    {
      "cell_type": "markdown",
      "metadata": {
        "id": "lQC-Zn9chvot"
      },
      "source": [
        "# Creating RDDs"
      ]
    },
    {
      "cell_type": "code",
      "execution_count": null,
      "metadata": {
        "id": "Px8ClkoXhvow"
      },
      "outputs": [],
      "source": [
        "#os.getenv('PYSPARK_SUBMIT_ARGS')"
      ]
    },
    {
      "cell_type": "code",
      "execution_count": null,
      "metadata": {
        "id": "0TEpJFgFhvox",
        "outputId": "2caf9ea1-65de-49df-a9f2-038cf56b44b3"
      },
      "outputs": [
        {
          "name": "stderr",
          "output_type": "stream",
          "text": [
            "24/12/23 10:22:18 WARN Utils: Your hostname, Akashs-MacBook-Air-2.local resolves to a loopback address: 127.0.0.1; using 192.168.33.206 instead (on interface en0)\n",
            "24/12/23 10:22:18 WARN Utils: Set SPARK_LOCAL_IP if you need to bind to another address\n",
            "Setting default log level to \"WARN\".\n",
            "To adjust logging level use sc.setLogLevel(newLevel). For SparkR, use setLogLevel(newLevel).\n",
            "24/12/23 10:22:20 WARN NativeCodeLoader: Unable to load native-hadoop library for your platform... using builtin-java classes where applicable\n"
          ]
        }
      ],
      "source": [
        "import os\n",
        "\n",
        "!export JAVA_HOME=$(/usr/libexec/java_home -v 1.8)\n",
        "from pyspark import SparkConf, SparkContext\n",
        "\n",
        "#os.environ['PYSPARK_PYTHON'] = '/Library/Frameworks/Python.framework/Versions/3.6/bin/python3'\n",
        "#os.environ['PYSPARK_PYTHON'] = '/usr/local/bin/python3'\n",
        "os.environ['PYSPARK_PYTHON'] = '/usr/local/Cellar/python@3.10/3.10.9/bin/python3'\n",
        "#os.environ['PYSPARK_DRIVER_PYTHON'] = '/usr/local/bin/python3'\n",
        "\n",
        "from pyspark.sql import SparkSession\n",
        "spark = SparkSession.builder.master(\"local\").appName(\"rdd_demo\").getOrCreate()\n",
        "#spark = SparkSession.builder.master(\"local[1]\").appName(\"rdd_demo\").getOrCreate()\n",
        "#spark = SparkSession.builder.master(\"local\").config(\"spark.driver.bindAddress\", \"127.0.0.1\").appName(\"rdd_demo\").getOrCreate()\n",
        "#spark = SparkSession.builder.master(\"local\").config(\"spark.ui.port\", \"4041\").appName(\"rdd_demo\").getOrCreate()\n",
        "#spark = SparkSession.builder.master(\"local\").config(\"spark.ui.reverseProxy\", \"true\").appName(\"rdd_demo\").getOrCreate()\n",
        "\n",
        "\n",
        "#sc.stop()\n",
        "conf = SparkConf().setMaster(\"local\").setAppName(\"MinTemperatures\")\n",
        "sc = SparkContext.getOrCreate()"
      ]
    },
    {
      "cell_type": "code",
      "execution_count": null,
      "metadata": {
        "id": "_SI88d4bhvo0",
        "outputId": "ab9845a6-b2d1-425d-b435-d0fef7536dc5"
      },
      "outputs": [
        {
          "data": {
            "text/html": [
              "\n",
              "            <div>\n",
              "                <p><b>SparkSession - in-memory</b></p>\n",
              "                \n",
              "        <div>\n",
              "            <p><b>SparkContext</b></p>\n",
              "\n",
              "            <p><a href=\"http://192.168.33.206:4040\">Spark UI</a></p>\n",
              "\n",
              "            <dl>\n",
              "              <dt>Version</dt>\n",
              "                <dd><code>v3.5.0</code></dd>\n",
              "              <dt>Master</dt>\n",
              "                <dd><code>local</code></dd>\n",
              "              <dt>AppName</dt>\n",
              "                <dd><code>rdd_demo</code></dd>\n",
              "            </dl>\n",
              "        </div>\n",
              "        \n",
              "            </div>\n",
              "        "
            ],
            "text/plain": [
              "<pyspark.sql.session.SparkSession at 0x121b2d900>"
            ]
          },
          "execution_count": 2,
          "metadata": {},
          "output_type": "execute_result"
        }
      ],
      "source": [
        "spark"
      ]
    },
    {
      "cell_type": "code",
      "execution_count": null,
      "metadata": {
        "id": "hidMoCMjhvo1"
      },
      "outputs": [],
      "source": [
        "flightData2015 = spark\\\n",
        "  .read\\\n",
        "  .option(\"inferSchema\", \"false\")\\\n",
        "  .option(\"header\", \"true\")\\\n",
        "  .csv(\"/Users/aakash/Downloads/spark-code/data/flight-data/csv/2015-summary.csv\")"
      ]
    },
    {
      "cell_type": "code",
      "execution_count": null,
      "metadata": {
        "id": "6BgFY1S8hvo1",
        "outputId": "c1cba359-f2b0-4527-de91-745bcfb2fee8"
      },
      "outputs": [
        {
          "data": {
            "text/plain": [
              "[Row(DEST_COUNTRY_NAME='United States', ORIGIN_COUNTRY_NAME='Romania', count='15'),\n",
              " Row(DEST_COUNTRY_NAME='United States', ORIGIN_COUNTRY_NAME='Croatia', count='1'),\n",
              " Row(DEST_COUNTRY_NAME='United States', ORIGIN_COUNTRY_NAME='Ireland', count='344'),\n",
              " Row(DEST_COUNTRY_NAME='Egypt', ORIGIN_COUNTRY_NAME='United States', count='15'),\n",
              " Row(DEST_COUNTRY_NAME='United States', ORIGIN_COUNTRY_NAME='India', count='62')]"
            ]
          },
          "execution_count": 7,
          "metadata": {},
          "output_type": "execute_result"
        }
      ],
      "source": [
        "flightData2015.take(5)"
      ]
    },
    {
      "cell_type": "code",
      "execution_count": null,
      "metadata": {
        "id": "scdVE8e7hvo2",
        "outputId": "7fb94246-b5e1-45ba-821c-ec894ee0f82e"
      },
      "outputs": [
        {
          "data": {
            "text/plain": [
              "DataFrame[DEST_COUNTRY_NAME: string, ORIGIN_COUNTRY_NAME: string, count: string]"
            ]
          },
          "execution_count": 7,
          "metadata": {},
          "output_type": "execute_result"
        }
      ],
      "source": [
        "flightData2015"
      ]
    },
    {
      "cell_type": "code",
      "execution_count": null,
      "metadata": {
        "id": "5h1fEpoFhvo2",
        "outputId": "e013a068-c34c-44d0-b5a7-a77a42a250fd"
      },
      "outputs": [
        {
          "data": {
            "text/plain": [
              "pyspark.sql.dataframe.DataFrame"
            ]
          },
          "execution_count": 8,
          "metadata": {},
          "output_type": "execute_result"
        }
      ],
      "source": [
        "type(flightData2015)"
      ]
    },
    {
      "cell_type": "code",
      "execution_count": null,
      "metadata": {
        "id": "HpZG0okThvo3",
        "outputId": "a17de5c0-1ca1-4ab3-82ad-2902dd5d1a13"
      },
      "outputs": [
        {
          "name": "stdout",
          "output_type": "stream",
          "text": [
            "<class 'pyspark.rdd.RDD'>\n"
          ]
        },
        {
          "name": "stderr",
          "output_type": "stream",
          "text": [
            "                                                                                \r"
          ]
        },
        {
          "name": "stdout",
          "output_type": "stream",
          "text": [
            "[Row(dest='United States', source='Romania', count='15')]\n",
            "256\n"
          ]
        },
        {
          "name": "stderr",
          "output_type": "stream",
          "text": [
            "\r",
            "[Stage 6:>                                                          (0 + 1) / 1]\r",
            "\r",
            "                                                                                \r"
          ]
        }
      ],
      "source": [
        "##### read using datasource API\n",
        "flightData2015 = spark\\\n",
        "  .read\\\n",
        "  .option(\"inferSchema\", \"false\")\\\n",
        "  .option(\"header\", \"true\")\\\n",
        "  .csv(\"/Users/aakash/Downloads/spark-code/data/flight-data/csv/2015-summary.csv\")\n",
        "\n",
        "# COMMAND ----------\n",
        "flightData2015=flightData2015.toDF(\"dest\",\"source\",\"count\").rdd\n",
        "print(type(flightData2015))\n",
        "print(flightData2015.take(1))\n",
        "print(flightData2015.count())"
      ]
    },
    {
      "cell_type": "code",
      "execution_count": null,
      "metadata": {
        "id": "KNoTigGBhvo3",
        "outputId": "f64023b5-972d-4529-a807-80c9ee2b5b65"
      },
      "outputs": [
        {
          "name": "stdout",
          "output_type": "stream",
          "text": [
            "<class 'pyspark.rdd.RDD'>\n",
            "['DEST_COUNTRY_NAME,ORIGIN_COUNTRY_NAME,count', 'United States,Romania,15']\n"
          ]
        }
      ],
      "source": [
        "##### read using sparkcontext\n",
        "spth=\"/Users/aakash/Downloads/spark-code/data/flight-data/csv/2015-summary.csv\"\n",
        "sc_flightData2015=spark.sparkContext.textFile(spth)\n",
        "print(type(sc_flightData2015))\n",
        "print(sc_flightData2015.take(2))"
      ]
    },
    {
      "cell_type": "code",
      "execution_count": null,
      "metadata": {
        "scrolled": true,
        "id": "HYM6ksqdhvo4",
        "outputId": "f67a8934-5846-4a5f-f772-3d512854789f"
      },
      "outputs": [
        {
          "name": "stdout",
          "output_type": "stream",
          "text": [
            "<class 'pandas.core.frame.DataFrame'>\n",
            "  DEST_COUNTRY_NAME ORIGIN_COUNTRY_NAME  count\n",
            "0     United States             Romania     15\n",
            "1     United States             Croatia      1\n",
            "2     United States             Ireland    344\n",
            "3             Egypt       United States     15\n",
            "4     United States               India     62\n"
          ]
        },
        {
          "name": "stderr",
          "output_type": "stream",
          "text": [
            "/usr/local/lib/python3.10/site-packages/pyspark/sql/pandas/conversion.py:485: FutureWarning: is_datetime64tz_dtype is deprecated and will be removed in a future version. Check `isinstance(dtype, pd.DatetimeTZDtype)` instead.\n",
            "  if should_localize and is_datetime64tz_dtype(s.dtype) and s.dt.tz is not None:\n"
          ]
        },
        {
          "name": "stdout",
          "output_type": "stream",
          "text": [
            "<class 'pyspark.rdd.RDD'>\n",
            "[Row(DEST_COUNTRY_NAME='United States', ORIGIN_COUNTRY_NAME='Romania', count=15)]\n"
          ]
        },
        {
          "name": "stderr",
          "output_type": "stream",
          "text": [
            "\r",
            "[Stage 7:>                                                          (0 + 1) / 1]\r",
            "\r",
            "                                                                                \r"
          ]
        }
      ],
      "source": [
        "##### convert pandas file to RDD\n",
        "import pandas as pd\n",
        "\n",
        "spth=\"/Users/aakash/Downloads/spark-code/data/flight-data/csv/2015-summary.csv\"\n",
        "pd_flightData2015=pd.read_csv(spth, header=0)\n",
        "print(type(pd_flightData2015))\n",
        "print(pd_flightData2015.head())\n",
        "pd_flightData2015=spark.createDataFrame(pd_flightData2015).rdd\n",
        "print(type(pd_flightData2015))\n",
        "print(pd_flightData2015.take(1))"
      ]
    },
    {
      "cell_type": "code",
      "execution_count": null,
      "metadata": {
        "id": "WWtIdTKDhvo4",
        "outputId": "3aaed7e9-bc74-4ced-ab69-4a07d823d895"
      },
      "outputs": [
        {
          "name": "stderr",
          "output_type": "stream",
          "text": [
            "\r",
            "[Stage 8:>                                                          (0 + 1) / 1]\r",
            "\r",
            "                                                                                \r"
          ]
        },
        {
          "data": {
            "text/plain": [
              "['Spark',\n",
              " 'The',\n",
              " 'Definitive',\n",
              " 'Guide',\n",
              " ':',\n",
              " 'Big',\n",
              " 'Data',\n",
              " 'Processing',\n",
              " 'Made',\n",
              " 'Simple']"
            ]
          },
          "execution_count": 10,
          "metadata": {},
          "output_type": "execute_result"
        }
      ],
      "source": [
        "myCollection = \"Spark The Definitive Guide : Big Data Processing Made Simple\"\\\n",
        "  .split(\" \")\n",
        "words = spark.sparkContext.parallelize(myCollection, 2)\n",
        "words.take(10)"
      ]
    },
    {
      "cell_type": "code",
      "execution_count": null,
      "metadata": {
        "id": "Goq_WtAVhvo5",
        "outputId": "a2150b02-07be-43e5-8d0c-25980e246c60"
      },
      "outputs": [
        {
          "name": "stdout",
          "output_type": "stream",
          "text": [
            "myWords\n",
            "<class 'pyspark.rdd.RDD'>\n",
            "['Spark', 'The', 'Definitive', 'Guide', ':']\n"
          ]
        },
        {
          "data": {
            "text/plain": [
              "2"
            ]
          },
          "execution_count": 11,
          "metadata": {},
          "output_type": "execute_result"
        }
      ],
      "source": [
        "##### from a collection of text\n",
        "myCollection = \"Spark The Definitive Guide : Big Data Processing Made Simple\"\\\n",
        "  .split(\" \")\n",
        "words = spark.sparkContext.parallelize(myCollection, 2)\n",
        "\n",
        "words.setName(\"myWords\")\n",
        "print(words.name()) # myWords\n",
        "print(type(words))\n",
        "print(words.take(5))\n",
        "words.getNumPartitions()"
      ]
    },
    {
      "cell_type": "code",
      "execution_count": null,
      "metadata": {
        "id": "tW17JTZ3hvo5",
        "outputId": "f8620a4a-f6aa-4a35-9b98-d4ad2022f416"
      },
      "outputs": [
        {
          "name": "stdout",
          "output_type": "stream",
          "text": [
            "[0, 1, 2, 3, 4]\n",
            "<class 'pyspark.rdd.PipelinedRDD'>\n"
          ]
        },
        {
          "name": "stderr",
          "output_type": "stream",
          "text": [
            "\r",
            "[Stage 11:>                                                         (0 + 1) / 1]\r",
            "\r",
            "                                                                                \r"
          ]
        },
        {
          "data": {
            "text/plain": [
              "1"
            ]
          },
          "execution_count": 12,
          "metadata": {},
          "output_type": "execute_result"
        }
      ],
      "source": [
        "### from a range of numbers\n",
        "myRange = spark.range(1000000000000).toDF(\"number\").rdd.map(lambda row: row[0])\n",
        "#myRange = spark.range(1000).toDF(\"number\")\n",
        "print(myRange.take(5))\n",
        "print(type(myRange))\n",
        "myRange.getNumPartitions()"
      ]
    },
    {
      "cell_type": "markdown",
      "metadata": {
        "id": "NIWJ2kCQhvo6"
      },
      "source": [
        "# filtering"
      ]
    },
    {
      "cell_type": "code",
      "execution_count": null,
      "metadata": {
        "id": "MNQ8AhMDhvo7"
      },
      "outputs": [],
      "source": [
        "def parseLine(line):\n",
        "    fields = line.split(',')\n",
        "    date = fields[0]\n",
        "    p_open = fields[1]\n",
        "    p_close = fields[5]\n",
        "    return (date, p_open, p_close)"
      ]
    },
    {
      "cell_type": "code",
      "execution_count": null,
      "metadata": {
        "id": "7VugKOKthvo7",
        "outputId": "a8b38e31-9ebc-44dc-923a-031b68bbcc31"
      },
      "outputs": [
        {
          "name": "stderr",
          "output_type": "stream",
          "text": [
            "                                                                                \r"
          ]
        },
        {
          "data": {
            "text/plain": [
              "[('Date', 'Open', 'Close'), ('2022-01-01', '100', '10000')]"
            ]
          },
          "execution_count": 14,
          "metadata": {},
          "output_type": "execute_result"
        }
      ],
      "source": [
        "spth=\"/Users/aakash/Downloads/spark-code/data/RELIANCE.csv\"\n",
        "sdt=spark.sparkContext.textFile(spth)\n",
        "sdt=sdt.map(parseLine)\n",
        "sdt.take(2)"
      ]
    },
    {
      "cell_type": "code",
      "execution_count": null,
      "metadata": {
        "id": "PvcgasZ1hvo8",
        "outputId": "cf7da284-957f-46ee-e7a9-e2d9b142301a"
      },
      "outputs": [
        {
          "name": "stdout",
          "output_type": "stream",
          "text": [
            "5\n",
            "<class 'pyspark.rdd.PipelinedRDD'>\n",
            "[(datetime.date(2022, 1, 1), 100, 10000), (datetime.date(2022, 1, 2), 200, 20000)]\n",
            "[(datetime.date(2022, 1, 1), 100, 10000), (datetime.date(2022, 1, 2), 200, 20000), (datetime.date(2022, 1, 3), 300, 30000), (datetime.date(2022, 1, 4), 400, 40000), (datetime.date(2022, 1, 5), 500, 50000)]\n",
            "<class 'pyspark.rdd.PipelinedRDD'>\n",
            "5\n"
          ]
        }
      ],
      "source": [
        "spth=\"/Users/aakash/Downloads/spark-code/data/RELIANCE.csv\"\n",
        "o_sdt = spark.read.format(\"CSV\").option(\"header\",\"true\").option(\"inferSchema\", \"true\") \\\n",
        "    .load(spth)\n",
        "o_sdt=o_sdt.toDF(\"Date\",\"Open\",\"High\",\"Low\",\"Last\",\"Close\",\"Volume\",\"Turnover\").rdd \\\n",
        "    .map(lambda row: (row[0], row[1], row[5]))\n",
        "print(o_sdt.count())\n",
        "print(type(o_sdt))\n",
        "print(o_sdt.take(2))\n",
        "\n",
        "o_sdt=o_sdt.filter(lambda row: row[2] > row[1])\n",
        "print(o_sdt.take(5))\n",
        "print(type(o_sdt))\n",
        "print(o_sdt.count())"
      ]
    },
    {
      "cell_type": "markdown",
      "metadata": {
        "id": "3lzFyObdhvo8"
      },
      "source": [
        "## filter function"
      ]
    },
    {
      "cell_type": "code",
      "execution_count": null,
      "metadata": {
        "id": "td_buvhjhvo8"
      },
      "outputs": [],
      "source": [
        "def HighClose(row):\n",
        "    ## Discuss\n",
        "    if row[2] > row[1]:\n",
        "        return(row)"
      ]
    },
    {
      "cell_type": "code",
      "execution_count": null,
      "metadata": {
        "id": "YbOndYa0hvo8",
        "outputId": "dc6d82a9-6f9e-42c8-e0ac-3d4984a89e08"
      },
      "outputs": [
        {
          "name": "stdout",
          "output_type": "stream",
          "text": [
            "5\n",
            "[('2022-01-01', '100', '10000'), ('2022-01-02', '200', '20000'), ('2022-01-03', '300', '30000'), ('2022-01-04', '400', '40000'), ('2022-01-05', '500', '50000')]\n",
            "<class 'pyspark.rdd.PipelinedRDD'>\n",
            "5\n"
          ]
        },
        {
          "name": "stderr",
          "output_type": "stream",
          "text": [
            "\r",
            "[Stage 34:>                                                         (0 + 1) / 1]\r",
            "\r",
            "                                                                                \r"
          ]
        }
      ],
      "source": [
        "o_sdt = spark.read.format(\"CSV\").option(\"header\",\"true\").load(spth)\n",
        "o_sdt=o_sdt.toDF(\"Date\",\"Open\",\"High\",\"Low\",\"Last\",\"Close\",\"Volume\",\"Turnover\").rdd.map(lambda row: (row[0], row[1], row[5]))\n",
        "print(o_sdt.count())\n",
        "o_sdt=o_sdt.filter(lambda row: HighClose(row))\n",
        "print(o_sdt.take(5))\n",
        "print(type(o_sdt))\n",
        "print(o_sdt.count())"
      ]
    },
    {
      "cell_type": "code",
      "execution_count": null,
      "metadata": {
        "id": "a2TdFAkRhvo9"
      },
      "outputs": [],
      "source": [
        "o_sdt = spark.read.format(\"CSV\").option(\"header\",\"true\").option(\"inferSchema\", \"true\").load(spth)\n",
        "o_sdt=o_sdt.toDF(\"Date\",\"Open\",\"High\",\"Low\",\"Last\",\"Close\",\"Volume\",\"Turnover\").rdd.map(lambda row: (row[0], row[1], row[5]))\n",
        "print(o_sdt.count())\n",
        "o_sdt=o_sdt.filter(lambda row: HighClose(row))\n",
        "print(o_sdt.take(5))\n",
        "print(type(o_sdt))\n",
        "print(o_sdt.count())\n"
      ]
    },
    {
      "cell_type": "markdown",
      "metadata": {
        "id": "3xzTdDq3hvo9"
      },
      "source": [
        "# Maps"
      ]
    },
    {
      "cell_type": "code",
      "execution_count": null,
      "metadata": {
        "id": "g98Mcee5hvo9"
      },
      "outputs": [],
      "source": [
        "def to_to_mill(row):\n",
        "    return (row[0], row[1], row[2], round(row[3],0))"
      ]
    },
    {
      "cell_type": "code",
      "execution_count": null,
      "metadata": {
        "id": "vqG78Dmmhvo9",
        "outputId": "6f7f1944-d052-4843-ec09-192abe82d397"
      },
      "outputs": [
        {
          "name": "stdout",
          "output_type": "stream",
          "text": [
            "[(datetime.date(2022, 1, 1), 100, 10000, None), (datetime.date(2022, 1, 2), 200, 20000, None)]\n",
            "<class 'pyspark.rdd.PipelinedRDD'>\n"
          ]
        }
      ],
      "source": [
        "spth=\"/Users/aakash/Downloads/spark-code/data/RELIANCE.csv\"\n",
        "o_sdt = spark.read.format(\"CSV\").option(\"header\",\"true\").option(\"inferSchema\", \"true\").load(spth)\n",
        "o_sdt=o_sdt.toDF(\"Date\",\"Open\",\"High\",\"Low\",\"Last\",\"Close\",\"Volume\",\"Turnover\").rdd.map(lambda row: (row[0], row[1], row[5], row[7]))\n",
        "print(o_sdt.take(2))\n",
        "o_sdt=o_sdt.map(to_to_mill)\n",
        "print(type(o_sdt))"
      ]
    },
    {
      "cell_type": "markdown",
      "metadata": {
        "id": "SmJ5JEmPhvo-"
      },
      "source": [
        "# flatMap"
      ]
    },
    {
      "cell_type": "code",
      "execution_count": null,
      "metadata": {
        "id": "tF_lrRZ4hvo-"
      },
      "outputs": [],
      "source": [
        "def Func(lines):\n",
        "    lines = lines.lower()\n",
        "    lines = lines.split(\" \")\n",
        "    return lines\n",
        "\n",
        "#sc.stop()\n",
        "#conf = SparkConf().setMaster(\"local\").setAppName(\"wordcount\")\n",
        "#sc = SparkContext.getOrCreate()\n",
        "\n",
        "spth=\"/Users/aakash/Downloads/spark-code/data/sherlock_holmes.txt\"\n",
        "input_file = sc.textFile(spth)"
      ]
    },
    {
      "cell_type": "code",
      "execution_count": null,
      "metadata": {
        "id": "GZukNKTahvo-",
        "outputId": "a7d79c7e-d140-4018-ae2e-477773b1a9e0"
      },
      "outputs": [
        {
          "name": "stderr",
          "output_type": "stream",
          "text": [
            "\r",
            "[Stage 38:>                                                         (0 + 1) / 1]\r",
            "\r",
            "                                                                                \r"
          ]
        },
        {
          "name": "stdout",
          "output_type": "stream",
          "text": [
            "['A SCANDAL IN BOHEMIA']\n"
          ]
        }
      ],
      "source": [
        "print(input_file.take(1))"
      ]
    },
    {
      "cell_type": "code",
      "execution_count": null,
      "metadata": {
        "id": "I1hmBS5whvo_"
      },
      "outputs": [],
      "source": [
        "rdd1 = input_file.flatMap(Func)"
      ]
    },
    {
      "cell_type": "code",
      "execution_count": null,
      "metadata": {
        "id": "bxhx2nLihvo_",
        "outputId": "e3d311db-1d10-47d3-ac5d-7e55a3d0387f"
      },
      "outputs": [
        {
          "data": {
            "text/plain": [
              "['a', 'scandal', 'in', 'bohemia', 'i.']"
            ]
          },
          "execution_count": 26,
          "metadata": {},
          "output_type": "execute_result"
        }
      ],
      "source": [
        "rdd1.take(5)"
      ]
    },
    {
      "cell_type": "code",
      "execution_count": null,
      "metadata": {
        "id": "JAMAggyMhvpA",
        "outputId": "283a2b5f-ca45-4d3e-9c03-0ea3ef1b0f6c"
      },
      "outputs": [
        {
          "name": "stderr",
          "output_type": "stream",
          "text": [
            "\r",
            "[Stage 40:>                                                         (0 + 1) / 1]\r",
            "\r",
            "                                                                                \r"
          ]
        },
        {
          "data": {
            "text/plain": [
              "[('a', 1), ('scandal', 1), ('in', 1), ('bohemia', 1), ('i.', 1)]"
            ]
          },
          "execution_count": 27,
          "metadata": {},
          "output_type": "execute_result"
        }
      ],
      "source": [
        "rdd1.map(lambda x: (x,1)).take(5)"
      ]
    },
    {
      "cell_type": "code",
      "execution_count": null,
      "metadata": {
        "id": "w_Fg4TgvhvpA",
        "outputId": "7b945cbb-f38b-430e-e782-a2354258963c"
      },
      "outputs": [
        {
          "name": "stderr",
          "output_type": "stream",
          "text": [
            "                                                                                \r"
          ]
        },
        {
          "data": {
            "text/plain": [
              "[(556, 'the'), (321, ''), (305, 'and'), (302, 'of'), (299, 'to')]"
            ]
          },
          "execution_count": 21,
          "metadata": {},
          "output_type": "execute_result"
        }
      ],
      "source": [
        "rdd2=rdd1 \\\n",
        ".map(lambda x: (x,1)) \\\n",
        ".groupByKey() \\\n",
        ".mapValues(sum) \\\n",
        ".map(lambda x: (x[1],x[0])) \\\n",
        ".sortByKey(False)\n",
        "\n",
        "rdd2.take(5)"
      ]
    },
    {
      "cell_type": "markdown",
      "metadata": {
        "id": "TDrO1MmNhvpB"
      },
      "source": [
        "## Reduce"
      ]
    },
    {
      "cell_type": "code",
      "execution_count": null,
      "metadata": {
        "id": "nMPle4wXhvpB",
        "outputId": "8d20853d-2e41-4ee1-c28a-c5d09bd6c582"
      },
      "outputs": [
        {
          "data": {
            "text/plain": [
              "10"
            ]
          },
          "execution_count": 28,
          "metadata": {},
          "output_type": "execute_result"
        }
      ],
      "source": [
        "spark.sparkContext.parallelize(range(1,5)).reduce(lambda x, y: x+y)"
      ]
    },
    {
      "cell_type": "code",
      "execution_count": null,
      "metadata": {
        "id": "OYa_q9xkhvpB"
      },
      "outputs": [],
      "source": [
        "Reduce works on 2 consecutive inputs\n",
        "and performs incremental operations on them\n",
        "\n",
        "Input: [1,2,3,4]\n",
        "Reduce step 1 -\n",
        "    Input: 1,2\n",
        "    Output: 1+2\n",
        "\n",
        "Reduce step 2 -\n",
        "    Input: 3\n",
        "    Output: 3+3= 6\n",
        "\n",
        "Reduce step 3 -\n",
        "    Input: 4\n",
        "    Output: 6+4 = 10"
      ]
    }
  ],
  "metadata": {
    "kernelspec": {
      "display_name": "Python 3 (ipykernel)",
      "language": "python",
      "name": "python3"
    },
    "language_info": {
      "codemirror_mode": {
        "name": "ipython",
        "version": 3
      },
      "file_extension": ".py",
      "mimetype": "text/x-python",
      "name": "python",
      "nbconvert_exporter": "python",
      "pygments_lexer": "ipython3",
      "version": "3.10.9"
    },
    "colab": {
      "provenance": [],
      "include_colab_link": true
    }
  },
  "nbformat": 4,
  "nbformat_minor": 0
}